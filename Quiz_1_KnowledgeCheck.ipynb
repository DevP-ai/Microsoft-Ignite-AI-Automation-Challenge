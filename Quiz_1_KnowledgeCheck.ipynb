{
  "nbformat": 4,
  "nbformat_minor": 0,
  "metadata": {
    "colab": {
      "provenance": [],
      "collapsed_sections": [],
      "authorship_tag": "ABX9TyPtAznnDqq04MZhoBEAwD9c",
      "include_colab_link": true
    },
    "kernelspec": {
      "name": "python3",
      "display_name": "Python 3"
    },
    "language_info": {
      "name": "python"
    }
  },
  "cells": [
    {
      "cell_type": "markdown",
      "metadata": {
        "id": "view-in-github",
        "colab_type": "text"
      },
      "source": [
        "<a href=\"https://colab.research.google.com/github/DevP-ai/Microsoft-Ignite-AI-Automation-Challenge/blob/main/Quiz_1_KnowledgeCheck.ipynb\" target=\"_parent\"><img src=\"https://colab.research.google.com/assets/colab-badge.svg\" alt=\"Open In Colab\"/></a>"
      ]
    },
    {
      "cell_type": "markdown",
      "source": [
        "## **Knowledge Check**"
      ],
      "metadata": {
        "id": "fmUQa_sVh8Gs"
      }
    },
    {
      "cell_type": "markdown",
      "source": [
        "**1. You are using scikit-learn to train a regression model from a dataset of sales data. You want to be able to evaluate the model to ensure it will predict accurately with new data. What should you do?**\n",
        "\n",
        "i.Use all of the data to train the model. Then use all of the data to evaluate it\n",
        "\n",
        "ii.Train the model using only the feature columns, and then evaluate it using only the label column.\n",
        "\n",
        "iii.Split the data randomly into two subsets. Use one subset to train the model, and the other to evaluate it\n",
        "\n",
        "\n",
        "**Correct ans: iii**"
      ],
      "metadata": {
        "id": "-bKYxrcbiBEa"
      }
    },
    {
      "cell_type": "markdown",
      "source": [
        "**2. You have created a model object using the scikit-learn LinearRegression class. What should you do to train the model?**\n",
        "\n",
        "\n",
        "i.Call the predict() method of the model object, specifying the training feature and label arrays\n",
        "\n",
        "\n",
        "ii.Call the fit() method of the model object, specifying the training feature and label arrays\n",
        "\n",
        "\n",
        "iii.Call the score() method of the model object, specifying the training feature and test feature arrays\n",
        "\n",
        "\n",
        "**Correct ans: ii**"
      ],
      "metadata": {
        "id": "SRaVpsT0iAzz"
      }
    },
    {
      "cell_type": "markdown",
      "source": [
        "**3. You train a regression model using scikit-learn. When you evaluate it with test data, you determine that the model achieves an R-squared metric of 0.95. What does this metric tell you about the model?**\n",
        "\n",
        "\n",
        "i.The model explains most of the variance between predicted and actual values.\n",
        "\n",
        "ii.The model is 95% accurate\n",
        "\n",
        "iii.On average, predictions are 0.95 higher than actual values\n",
        "\n",
        "\n",
        "**Correct ans: i**"
      ],
      "metadata": {
        "id": "0uEjsELWiAfL"
      }
    },
    {
      "cell_type": "code",
      "execution_count": null,
      "metadata": {
        "id": "r7g9LDShh3yp"
      },
      "outputs": [],
      "source": []
    }
  ]
}